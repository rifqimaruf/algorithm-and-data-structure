{
 "cells": [
  {
   "cell_type": "code",
   "execution_count": 4,
   "metadata": {},
   "outputs": [],
   "source": [
    "import pandas as pd"
   ]
  },
  {
   "cell_type": "code",
   "execution_count": 21,
   "metadata": {},
   "outputs": [],
   "source": [
    "person_data = {\n",
    "    \"id\" : [1, 2, 3],\n",
    "    \"email\" : [\"a@.com\", \"b@.com\", \"a@.com\"]\n",
    "}"
   ]
  },
  {
   "cell_type": "code",
   "execution_count": 29,
   "metadata": {},
   "outputs": [],
   "source": [
    "def show_duplicate_emails(person: pd.DataFrame) -> pd.DataFrame:\n",
    "    lst = person[\"email\"].tolist()\n",
    "    res = {}\n",
    "    for i in lst:\n",
    "        if i in res:\n",
    "            res[i] += 1\n",
    "        else:\n",
    "            res[i] = 1\n",
    "    return pd.DataFrame({\"Email\": [i for i in res if res[i]>1]})"
   ]
  },
  {
   "cell_type": "code",
   "execution_count": 31,
   "metadata": {},
   "outputs": [
    {
     "name": "stdout",
     "output_type": "stream",
     "text": [
      "    Email\n",
      "0  a@.com\n"
     ]
    }
   ],
   "source": [
    "person = pd.DataFrame(person_data)\n",
    "print(show_duplicate_emails(person))"
   ]
  }
 ],
 "metadata": {
  "kernelspec": {
   "display_name": "Python 3",
   "language": "python",
   "name": "python3"
  },
  "language_info": {
   "codemirror_mode": {
    "name": "ipython",
    "version": 3
   },
   "file_extension": ".py",
   "mimetype": "text/x-python",
   "name": "python",
   "nbconvert_exporter": "python",
   "pygments_lexer": "ipython3",
   "version": "3.12.0"
  }
 },
 "nbformat": 4,
 "nbformat_minor": 2
}
